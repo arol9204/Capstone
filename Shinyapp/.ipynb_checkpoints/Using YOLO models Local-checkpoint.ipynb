{
 "cells": [
  {
   "cell_type": "code",
   "execution_count": 1,
   "id": "0d2a36ba",
   "metadata": {},
   "outputs": [
    {
     "data": {
      "text/plain": [
       "'C:\\\\Users\\\\alero\\\\Documents\\\\GitHub\\\\Recicling-Collection-Service\\\\Shinyapp'"
      ]
     },
     "execution_count": 1,
     "metadata": {},
     "output_type": "execute_result"
    }
   ],
   "source": [
    "import os\n",
    "os.getcwd()"
   ]
  },
  {
   "cell_type": "code",
   "execution_count": 2,
   "id": "1c8534d6",
   "metadata": {},
   "outputs": [],
   "source": [
    "# !git clone https://github.com/ultralytics/yolov5"
   ]
  },
  {
   "cell_type": "code",
   "execution_count": 3,
   "id": "3ca1f3ae",
   "metadata": {},
   "outputs": [],
   "source": [
    "# %cd yolov5"
   ]
  },
  {
   "cell_type": "markdown",
   "id": "3a052d8a",
   "metadata": {},
   "source": [
    "Once requirements is installed, it should work without install the requirements again"
   ]
  },
  {
   "cell_type": "code",
   "execution_count": 4,
   "id": "f3ded245",
   "metadata": {},
   "outputs": [
    {
     "name": "stdout",
     "output_type": "stream",
     "text": [
      "Requirement already satisfied: gitpython>=3.1.30 in c:\\users\\alero\\anaconda3\\lib\\site-packages (from -r yolov5/requirements.txt (line 5)) (3.1.37)\n",
      "Requirement already satisfied: matplotlib>=3.3 in c:\\users\\alero\\anaconda3\\lib\\site-packages (from -r yolov5/requirements.txt (line 6)) (3.8.0)\n",
      "Requirement already satisfied: numpy>=1.23.5 in c:\\users\\alero\\anaconda3\\lib\\site-packages (from -r yolov5/requirements.txt (line 7)) (1.26.4)\n",
      "Requirement already satisfied: opencv-python>=4.1.1 in c:\\users\\alero\\anaconda3\\lib\\site-packages (from -r yolov5/requirements.txt (line 8)) (4.10.0.84)\n",
      "Requirement already satisfied: pillow>=10.3.0 in c:\\users\\alero\\anaconda3\\lib\\site-packages (from -r yolov5/requirements.txt (line 9)) (10.4.0)\n",
      "Requirement already satisfied: psutil in c:\\users\\alero\\anaconda3\\lib\\site-packages (from -r yolov5/requirements.txt (line 10)) (5.9.0)\n",
      "Requirement already satisfied: PyYAML>=5.3.1 in c:\\users\\alero\\anaconda3\\lib\\site-packages (from -r yolov5/requirements.txt (line 11)) (6.0.1)\n",
      "Requirement already satisfied: requests>=2.32.0 in c:\\users\\alero\\anaconda3\\lib\\site-packages (from -r yolov5/requirements.txt (line 12)) (2.32.3)\n",
      "Requirement already satisfied: scipy>=1.4.1 in c:\\users\\alero\\anaconda3\\lib\\site-packages (from -r yolov5/requirements.txt (line 13)) (1.11.4)\n",
      "Requirement already satisfied: thop>=0.1.1 in c:\\users\\alero\\anaconda3\\lib\\site-packages (from -r yolov5/requirements.txt (line 14)) (0.1.1.post2209072238)\n",
      "Requirement already satisfied: torch>=1.8.0 in c:\\users\\alero\\anaconda3\\lib\\site-packages (from -r yolov5/requirements.txt (line 15)) (2.4.1)\n",
      "Requirement already satisfied: torchvision>=0.9.0 in c:\\users\\alero\\anaconda3\\lib\\site-packages (from -r yolov5/requirements.txt (line 16)) (0.19.1)\n",
      "Requirement already satisfied: tqdm>=4.64.0 in c:\\users\\alero\\anaconda3\\lib\\site-packages (from -r yolov5/requirements.txt (line 17)) (4.65.0)\n",
      "Requirement already satisfied: ultralytics>=8.2.34 in c:\\users\\alero\\anaconda3\\lib\\site-packages (from -r yolov5/requirements.txt (line 18)) (8.2.101)\n",
      "Requirement already satisfied: pandas>=1.1.4 in c:\\users\\alero\\anaconda3\\lib\\site-packages (from -r yolov5/requirements.txt (line 27)) (2.1.4)\n",
      "Requirement already satisfied: seaborn>=0.11.0 in c:\\users\\alero\\anaconda3\\lib\\site-packages (from -r yolov5/requirements.txt (line 28)) (0.12.2)\n",
      "Requirement already satisfied: setuptools>=70.0.0 in c:\\users\\alero\\anaconda3\\lib\\site-packages (from -r yolov5/requirements.txt (line 42)) (75.1.0)\n",
      "Requirement already satisfied: gitdb<5,>=4.0.1 in c:\\users\\alero\\anaconda3\\lib\\site-packages (from gitpython>=3.1.30->-r yolov5/requirements.txt (line 5)) (4.0.7)\n",
      "Requirement already satisfied: contourpy>=1.0.1 in c:\\users\\alero\\anaconda3\\lib\\site-packages (from matplotlib>=3.3->-r yolov5/requirements.txt (line 6)) (1.2.0)\n",
      "Requirement already satisfied: cycler>=0.10 in c:\\users\\alero\\anaconda3\\lib\\site-packages (from matplotlib>=3.3->-r yolov5/requirements.txt (line 6)) (0.11.0)\n",
      "Requirement already satisfied: fonttools>=4.22.0 in c:\\users\\alero\\anaconda3\\lib\\site-packages (from matplotlib>=3.3->-r yolov5/requirements.txt (line 6)) (4.25.0)\n",
      "Requirement already satisfied: kiwisolver>=1.0.1 in c:\\users\\alero\\anaconda3\\lib\\site-packages (from matplotlib>=3.3->-r yolov5/requirements.txt (line 6)) (1.4.4)\n",
      "Requirement already satisfied: packaging>=20.0 in c:\\users\\alero\\anaconda3\\lib\\site-packages (from matplotlib>=3.3->-r yolov5/requirements.txt (line 6)) (23.1)\n",
      "Requirement already satisfied: pyparsing>=2.3.1 in c:\\users\\alero\\anaconda3\\lib\\site-packages (from matplotlib>=3.3->-r yolov5/requirements.txt (line 6)) (3.0.9)\n",
      "Requirement already satisfied: python-dateutil>=2.7 in c:\\users\\alero\\anaconda3\\lib\\site-packages (from matplotlib>=3.3->-r yolov5/requirements.txt (line 6)) (2.8.2)\n",
      "Requirement already satisfied: charset-normalizer<4,>=2 in c:\\users\\alero\\anaconda3\\lib\\site-packages (from requests>=2.32.0->-r yolov5/requirements.txt (line 12)) (2.0.4)\n",
      "Requirement already satisfied: idna<4,>=2.5 in c:\\users\\alero\\anaconda3\\lib\\site-packages (from requests>=2.32.0->-r yolov5/requirements.txt (line 12)) (3.4)\n",
      "Requirement already satisfied: urllib3<3,>=1.21.1 in c:\\users\\alero\\anaconda3\\lib\\site-packages (from requests>=2.32.0->-r yolov5/requirements.txt (line 12)) (2.0.7)\n",
      "Requirement already satisfied: certifi>=2017.4.17 in c:\\users\\alero\\anaconda3\\lib\\site-packages (from requests>=2.32.0->-r yolov5/requirements.txt (line 12)) (2024.2.2)\n",
      "Requirement already satisfied: filelock in c:\\users\\alero\\anaconda3\\lib\\site-packages (from torch>=1.8.0->-r yolov5/requirements.txt (line 15)) (3.13.1)\n",
      "Requirement already satisfied: typing-extensions>=4.8.0 in c:\\users\\alero\\anaconda3\\lib\\site-packages (from torch>=1.8.0->-r yolov5/requirements.txt (line 15)) (4.9.0)\n",
      "Requirement already satisfied: sympy in c:\\users\\alero\\anaconda3\\lib\\site-packages (from torch>=1.8.0->-r yolov5/requirements.txt (line 15)) (1.12)\n",
      "Requirement already satisfied: networkx in c:\\users\\alero\\anaconda3\\lib\\site-packages (from torch>=1.8.0->-r yolov5/requirements.txt (line 15)) (3.1)\n",
      "Requirement already satisfied: jinja2 in c:\\users\\alero\\anaconda3\\lib\\site-packages (from torch>=1.8.0->-r yolov5/requirements.txt (line 15)) (3.1.3)\n",
      "Requirement already satisfied: fsspec in c:\\users\\alero\\anaconda3\\lib\\site-packages (from torch>=1.8.0->-r yolov5/requirements.txt (line 15)) (2023.10.0)\n",
      "Requirement already satisfied: colorama in c:\\users\\alero\\anaconda3\\lib\\site-packages (from tqdm>=4.64.0->-r yolov5/requirements.txt (line 17)) (0.4.6)\n",
      "Requirement already satisfied: py-cpuinfo in c:\\users\\alero\\anaconda3\\lib\\site-packages (from ultralytics>=8.2.34->-r yolov5/requirements.txt (line 18)) (9.0.0)\n",
      "Requirement already satisfied: ultralytics-thop>=2.0.0 in c:\\users\\alero\\anaconda3\\lib\\site-packages (from ultralytics>=8.2.34->-r yolov5/requirements.txt (line 18)) (2.0.8)\n",
      "Requirement already satisfied: pytz>=2020.1 in c:\\users\\alero\\anaconda3\\lib\\site-packages (from pandas>=1.1.4->-r yolov5/requirements.txt (line 27)) (2023.3.post1)\n",
      "Requirement already satisfied: tzdata>=2022.1 in c:\\users\\alero\\anaconda3\\lib\\site-packages (from pandas>=1.1.4->-r yolov5/requirements.txt (line 27)) (2023.3)\n",
      "Requirement already satisfied: smmap<5,>=3.0.1 in c:\\users\\alero\\anaconda3\\lib\\site-packages (from gitdb<5,>=4.0.1->gitpython>=3.1.30->-r yolov5/requirements.txt (line 5)) (4.0.0)\n",
      "Requirement already satisfied: six>=1.5 in c:\\users\\alero\\anaconda3\\lib\\site-packages (from python-dateutil>=2.7->matplotlib>=3.3->-r yolov5/requirements.txt (line 6)) (1.16.0)\n",
      "Requirement already satisfied: MarkupSafe>=2.0 in c:\\users\\alero\\anaconda3\\lib\\site-packages (from jinja2->torch>=1.8.0->-r yolov5/requirements.txt (line 15)) (2.1.3)\n",
      "Requirement already satisfied: mpmath>=0.19 in c:\\users\\alero\\anaconda3\\lib\\site-packages (from sympy->torch>=1.8.0->-r yolov5/requirements.txt (line 15)) (1.3.0)\n",
      "Note: you may need to restart the kernel to use updated packages.\n"
     ]
    }
   ],
   "source": [
    "pip install -r yolov5/requirements.txt"
   ]
  },
  {
   "cell_type": "code",
   "execution_count": 5,
   "id": "c7a9d389",
   "metadata": {},
   "outputs": [],
   "source": [
    "import torch"
   ]
  },
  {
   "cell_type": "code",
   "execution_count": 6,
   "id": "7e2e0886",
   "metadata": {},
   "outputs": [],
   "source": [
    "import pathlib\n",
    "temp = pathlib.PosixPath\n",
    "pathlib.PosixPath = pathlib.WindowsPath"
   ]
  },
  {
   "cell_type": "code",
   "execution_count": 7,
   "id": "ab43b72e",
   "metadata": {},
   "outputs": [
    {
     "ename": "ImportError",
     "evalue": "cannot import name 'tarfile' from 'backports' (C:\\Users\\alero\\anaconda3\\Lib\\site-packages\\backports\\__init__.py)",
     "output_type": "error",
     "traceback": [
      "\u001b[1;31m---------------------------------------------------------------------------\u001b[0m",
      "\u001b[1;31mImportError\u001b[0m                               Traceback (most recent call last)",
      "Cell \u001b[1;32mIn[7], line 6\u001b[0m\n\u001b[0;32m      3\u001b[0m yolov5_dir \u001b[38;5;241m=\u001b[39m \u001b[38;5;124m'\u001b[39m\u001b[38;5;124mC:/Users/alero/Documents/GitHub/Recicling-Collection-Service/Shinyapp/yolov5\u001b[39m\u001b[38;5;124m'\u001b[39m\n\u001b[0;32m      5\u001b[0m \u001b[38;5;66;03m# Load the model\u001b[39;00m\n\u001b[1;32m----> 6\u001b[0m model \u001b[38;5;241m=\u001b[39m torch\u001b[38;5;241m.\u001b[39mhub\u001b[38;5;241m.\u001b[39mload(yolov5_dir, \u001b[38;5;124m'\u001b[39m\u001b[38;5;124mcustom\u001b[39m\u001b[38;5;124m'\u001b[39m, path\u001b[38;5;241m=\u001b[39mmodel_path, source\u001b[38;5;241m=\u001b[39m\u001b[38;5;124m'\u001b[39m\u001b[38;5;124mlocal\u001b[39m\u001b[38;5;124m'\u001b[39m, force_reload\u001b[38;5;241m=\u001b[39m\u001b[38;5;28;01mTrue\u001b[39;00m)\n",
      "File \u001b[1;32m~\\anaconda3\\Lib\\site-packages\\torch\\hub.py:570\u001b[0m, in \u001b[0;36mload\u001b[1;34m(repo_or_dir, model, source, trust_repo, force_reload, verbose, skip_validation, *args, **kwargs)\u001b[0m\n\u001b[0;32m    566\u001b[0m \u001b[38;5;28;01mif\u001b[39;00m source \u001b[38;5;241m==\u001b[39m \u001b[38;5;124m'\u001b[39m\u001b[38;5;124mgithub\u001b[39m\u001b[38;5;124m'\u001b[39m:\n\u001b[0;32m    567\u001b[0m     repo_or_dir \u001b[38;5;241m=\u001b[39m _get_cache_or_reload(repo_or_dir, force_reload, trust_repo, \u001b[38;5;124m\"\u001b[39m\u001b[38;5;124mload\u001b[39m\u001b[38;5;124m\"\u001b[39m,\n\u001b[0;32m    568\u001b[0m                                        verbose\u001b[38;5;241m=\u001b[39mverbose, skip_validation\u001b[38;5;241m=\u001b[39mskip_validation)\n\u001b[1;32m--> 570\u001b[0m model \u001b[38;5;241m=\u001b[39m _load_local(repo_or_dir, model, \u001b[38;5;241m*\u001b[39margs, \u001b[38;5;241m*\u001b[39m\u001b[38;5;241m*\u001b[39mkwargs)\n\u001b[0;32m    571\u001b[0m \u001b[38;5;28;01mreturn\u001b[39;00m model\n",
      "File \u001b[1;32m~\\anaconda3\\Lib\\site-packages\\torch\\hub.py:599\u001b[0m, in \u001b[0;36m_load_local\u001b[1;34m(hubconf_dir, model, *args, **kwargs)\u001b[0m\n\u001b[0;32m    596\u001b[0m     hub_module \u001b[38;5;241m=\u001b[39m _import_module(MODULE_HUBCONF, hubconf_path)\n\u001b[0;32m    598\u001b[0m     entry \u001b[38;5;241m=\u001b[39m _load_entry_from_hubconf(hub_module, model)\n\u001b[1;32m--> 599\u001b[0m     model \u001b[38;5;241m=\u001b[39m entry(\u001b[38;5;241m*\u001b[39margs, \u001b[38;5;241m*\u001b[39m\u001b[38;5;241m*\u001b[39mkwargs)\n\u001b[0;32m    601\u001b[0m \u001b[38;5;28;01mreturn\u001b[39;00m model\n",
      "File \u001b[1;32mC:/Users/alero/Documents/GitHub/Recicling-Collection-Service/Shinyapp/yolov5\\hubconf.py:135\u001b[0m, in \u001b[0;36mcustom\u001b[1;34m(path, autoshape, _verbose, device)\u001b[0m\n\u001b[0;32m    106\u001b[0m \u001b[38;5;28;01mdef\u001b[39;00m \u001b[38;5;21mcustom\u001b[39m(path\u001b[38;5;241m=\u001b[39m\u001b[38;5;124m\"\u001b[39m\u001b[38;5;124mpath/to/model.pt\u001b[39m\u001b[38;5;124m\"\u001b[39m, autoshape\u001b[38;5;241m=\u001b[39m\u001b[38;5;28;01mTrue\u001b[39;00m, _verbose\u001b[38;5;241m=\u001b[39m\u001b[38;5;28;01mTrue\u001b[39;00m, device\u001b[38;5;241m=\u001b[39m\u001b[38;5;28;01mNone\u001b[39;00m):\n\u001b[0;32m    107\u001b[0m \u001b[38;5;250m    \u001b[39m\u001b[38;5;124;03m\"\"\"\u001b[39;00m\n\u001b[0;32m    108\u001b[0m \u001b[38;5;124;03m    Loads a custom or local YOLOv5 model from a given path with optional autoshaping and device specification.\u001b[39;00m\n\u001b[0;32m    109\u001b[0m \n\u001b[1;32m   (...)\u001b[0m\n\u001b[0;32m    133\u001b[0m \u001b[38;5;124;03m        ```\u001b[39;00m\n\u001b[0;32m    134\u001b[0m \u001b[38;5;124;03m    \"\"\"\u001b[39;00m\n\u001b[1;32m--> 135\u001b[0m     \u001b[38;5;28;01mreturn\u001b[39;00m _create(path, autoshape\u001b[38;5;241m=\u001b[39mautoshape, verbose\u001b[38;5;241m=\u001b[39m_verbose, device\u001b[38;5;241m=\u001b[39mdevice)\n",
      "File \u001b[1;32mC:/Users/alero/Documents/GitHub/Recicling-Collection-Service/Shinyapp/yolov5\\hubconf.py:54\u001b[0m, in \u001b[0;36m_create\u001b[1;34m(name, pretrained, channels, classes, autoshape, verbose, device)\u001b[0m\n\u001b[0;32m     17\u001b[0m \u001b[38;5;250m\u001b[39m\u001b[38;5;124;03m\"\"\"\u001b[39;00m\n\u001b[0;32m     18\u001b[0m \u001b[38;5;124;03mCreates or loads a YOLOv5 model, with options for pretrained weights and model customization.\u001b[39;00m\n\u001b[0;32m     19\u001b[0m \n\u001b[1;32m   (...)\u001b[0m\n\u001b[0;32m     50\u001b[0m \u001b[38;5;124;03m    [YOLOv5 PyTorch Hub Documentation](https://docs.ultralytics.com/yolov5/tutorials/pytorch_hub_model_loading).\u001b[39;00m\n\u001b[0;32m     51\u001b[0m \u001b[38;5;124;03m\"\"\"\u001b[39;00m\n\u001b[0;32m     52\u001b[0m \u001b[38;5;28;01mfrom\u001b[39;00m \u001b[38;5;21;01mpathlib\u001b[39;00m \u001b[38;5;28;01mimport\u001b[39;00m Path\n\u001b[1;32m---> 54\u001b[0m \u001b[38;5;28;01mfrom\u001b[39;00m \u001b[38;5;21;01mmodels\u001b[39;00m\u001b[38;5;21;01m.\u001b[39;00m\u001b[38;5;21;01mcommon\u001b[39;00m \u001b[38;5;28;01mimport\u001b[39;00m AutoShape, DetectMultiBackend\n\u001b[0;32m     55\u001b[0m \u001b[38;5;28;01mfrom\u001b[39;00m \u001b[38;5;21;01mmodels\u001b[39;00m\u001b[38;5;21;01m.\u001b[39;00m\u001b[38;5;21;01mexperimental\u001b[39;00m \u001b[38;5;28;01mimport\u001b[39;00m attempt_load\n\u001b[0;32m     56\u001b[0m \u001b[38;5;28;01mfrom\u001b[39;00m \u001b[38;5;21;01mmodels\u001b[39;00m\u001b[38;5;21;01m.\u001b[39;00m\u001b[38;5;21;01myolo\u001b[39;00m \u001b[38;5;28;01mimport\u001b[39;00m ClassificationModel, DetectionModel, SegmentationModel\n",
      "File \u001b[1;32mC:\\Users/alero/Documents/GitHub/Recicling-Collection-Service/Shinyapp/yolov5\\models\\common.py:39\u001b[0m\n\u001b[0;32m     36\u001b[0m \u001b[38;5;28;01mfrom\u001b[39;00m \u001b[38;5;21;01multralytics\u001b[39;00m\u001b[38;5;21;01m.\u001b[39;00m\u001b[38;5;21;01mutils\u001b[39;00m\u001b[38;5;21;01m.\u001b[39;00m\u001b[38;5;21;01mplotting\u001b[39;00m \u001b[38;5;28;01mimport\u001b[39;00m Annotator, colors, save_one_box\n\u001b[0;32m     38\u001b[0m \u001b[38;5;28;01mfrom\u001b[39;00m \u001b[38;5;21;01mutils\u001b[39;00m \u001b[38;5;28;01mimport\u001b[39;00m TryExcept\n\u001b[1;32m---> 39\u001b[0m \u001b[38;5;28;01mfrom\u001b[39;00m \u001b[38;5;21;01mutils\u001b[39;00m\u001b[38;5;21;01m.\u001b[39;00m\u001b[38;5;21;01mdataloaders\u001b[39;00m \u001b[38;5;28;01mimport\u001b[39;00m exif_transpose, letterbox\n\u001b[0;32m     40\u001b[0m \u001b[38;5;28;01mfrom\u001b[39;00m \u001b[38;5;21;01mutils\u001b[39;00m\u001b[38;5;21;01m.\u001b[39;00m\u001b[38;5;21;01mgeneral\u001b[39;00m \u001b[38;5;28;01mimport\u001b[39;00m (\n\u001b[0;32m     41\u001b[0m     LOGGER,\n\u001b[0;32m     42\u001b[0m     ROOT,\n\u001b[1;32m   (...)\u001b[0m\n\u001b[0;32m     55\u001b[0m     yaml_load,\n\u001b[0;32m     56\u001b[0m )\n\u001b[0;32m     57\u001b[0m \u001b[38;5;28;01mfrom\u001b[39;00m \u001b[38;5;21;01mutils\u001b[39;00m\u001b[38;5;21;01m.\u001b[39;00m\u001b[38;5;21;01mtorch_utils\u001b[39;00m \u001b[38;5;28;01mimport\u001b[39;00m copy_attr, smart_inference_mode\n",
      "File \u001b[1;32mC:\\Users/alero/Documents/GitHub/Recicling-Collection-Service/Shinyapp/yolov5\\utils\\dataloaders.py:29\u001b[0m\n\u001b[0;32m     26\u001b[0m \u001b[38;5;28;01mfrom\u001b[39;00m \u001b[38;5;21;01mtorch\u001b[39;00m\u001b[38;5;21;01m.\u001b[39;00m\u001b[38;5;21;01mutils\u001b[39;00m\u001b[38;5;21;01m.\u001b[39;00m\u001b[38;5;21;01mdata\u001b[39;00m \u001b[38;5;28;01mimport\u001b[39;00m DataLoader, Dataset, dataloader, distributed\n\u001b[0;32m     27\u001b[0m \u001b[38;5;28;01mfrom\u001b[39;00m \u001b[38;5;21;01mtqdm\u001b[39;00m \u001b[38;5;28;01mimport\u001b[39;00m tqdm\n\u001b[1;32m---> 29\u001b[0m \u001b[38;5;28;01mfrom\u001b[39;00m \u001b[38;5;21;01mutils\u001b[39;00m\u001b[38;5;21;01m.\u001b[39;00m\u001b[38;5;21;01maugmentations\u001b[39;00m \u001b[38;5;28;01mimport\u001b[39;00m (\n\u001b[0;32m     30\u001b[0m     Albumentations,\n\u001b[0;32m     31\u001b[0m     augment_hsv,\n\u001b[0;32m     32\u001b[0m     classify_albumentations,\n\u001b[0;32m     33\u001b[0m     classify_transforms,\n\u001b[0;32m     34\u001b[0m     copy_paste,\n\u001b[0;32m     35\u001b[0m     letterbox,\n\u001b[0;32m     36\u001b[0m     mixup,\n\u001b[0;32m     37\u001b[0m     random_perspective,\n\u001b[0;32m     38\u001b[0m )\n\u001b[0;32m     39\u001b[0m \u001b[38;5;28;01mfrom\u001b[39;00m \u001b[38;5;21;01mutils\u001b[39;00m\u001b[38;5;21;01m.\u001b[39;00m\u001b[38;5;21;01mgeneral\u001b[39;00m \u001b[38;5;28;01mimport\u001b[39;00m (\n\u001b[0;32m     40\u001b[0m     DATASETS_DIR,\n\u001b[0;32m     41\u001b[0m     LOGGER,\n\u001b[1;32m   (...)\u001b[0m\n\u001b[0;32m     56\u001b[0m     xyxy2xywhn,\n\u001b[0;32m     57\u001b[0m )\n\u001b[0;32m     58\u001b[0m \u001b[38;5;28;01mfrom\u001b[39;00m \u001b[38;5;21;01mutils\u001b[39;00m\u001b[38;5;21;01m.\u001b[39;00m\u001b[38;5;21;01mtorch_utils\u001b[39;00m \u001b[38;5;28;01mimport\u001b[39;00m torch_distributed_zero_first\n",
      "File \u001b[1;32mC:\\Users/alero/Documents/GitHub/Recicling-Collection-Service/Shinyapp/yolov5\\utils\\augmentations.py:13\u001b[0m\n\u001b[0;32m     10\u001b[0m \u001b[38;5;28;01mimport\u001b[39;00m \u001b[38;5;21;01mtorchvision\u001b[39;00m\u001b[38;5;21;01m.\u001b[39;00m\u001b[38;5;21;01mtransforms\u001b[39;00m \u001b[38;5;28;01mas\u001b[39;00m \u001b[38;5;21;01mT\u001b[39;00m\n\u001b[0;32m     11\u001b[0m \u001b[38;5;28;01mimport\u001b[39;00m \u001b[38;5;21;01mtorchvision\u001b[39;00m\u001b[38;5;21;01m.\u001b[39;00m\u001b[38;5;21;01mtransforms\u001b[39;00m\u001b[38;5;21;01m.\u001b[39;00m\u001b[38;5;21;01mfunctional\u001b[39;00m \u001b[38;5;28;01mas\u001b[39;00m \u001b[38;5;21;01mTF\u001b[39;00m\n\u001b[1;32m---> 13\u001b[0m \u001b[38;5;28;01mfrom\u001b[39;00m \u001b[38;5;21;01mutils\u001b[39;00m\u001b[38;5;21;01m.\u001b[39;00m\u001b[38;5;21;01mgeneral\u001b[39;00m \u001b[38;5;28;01mimport\u001b[39;00m LOGGER, check_version, colorstr, resample_segments, segment2box, xywhn2xyxy\n\u001b[0;32m     14\u001b[0m \u001b[38;5;28;01mfrom\u001b[39;00m \u001b[38;5;21;01mutils\u001b[39;00m\u001b[38;5;21;01m.\u001b[39;00m\u001b[38;5;21;01mmetrics\u001b[39;00m \u001b[38;5;28;01mimport\u001b[39;00m bbox_ioa\n\u001b[0;32m     16\u001b[0m IMAGENET_MEAN \u001b[38;5;241m=\u001b[39m \u001b[38;5;241m0.485\u001b[39m, \u001b[38;5;241m0.456\u001b[39m, \u001b[38;5;241m0.406\u001b[39m  \u001b[38;5;66;03m# RGB mean\u001b[39;00m\n",
      "File \u001b[1;32mC:\\Users/alero/Documents/GitHub/Recicling-Collection-Service/Shinyapp/yolov5\\utils\\general.py:32\u001b[0m\n\u001b[0;32m     30\u001b[0m \u001b[38;5;28;01mimport\u001b[39;00m \u001b[38;5;21;01mnumpy\u001b[39;00m \u001b[38;5;28;01mas\u001b[39;00m \u001b[38;5;21;01mnp\u001b[39;00m\n\u001b[0;32m     31\u001b[0m \u001b[38;5;28;01mimport\u001b[39;00m \u001b[38;5;21;01mpandas\u001b[39;00m \u001b[38;5;28;01mas\u001b[39;00m \u001b[38;5;21;01mpd\u001b[39;00m\n\u001b[1;32m---> 32\u001b[0m \u001b[38;5;28;01mimport\u001b[39;00m \u001b[38;5;21;01mpkg_resources\u001b[39;00m \u001b[38;5;28;01mas\u001b[39;00m \u001b[38;5;21;01mpkg\u001b[39;00m\n\u001b[0;32m     33\u001b[0m \u001b[38;5;28;01mimport\u001b[39;00m \u001b[38;5;21;01mtorch\u001b[39;00m\n\u001b[0;32m     34\u001b[0m \u001b[38;5;28;01mimport\u001b[39;00m \u001b[38;5;21;01mtorchvision\u001b[39;00m\n",
      "File \u001b[1;32m~\\anaconda3\\Lib\\site-packages\\pkg_resources\\__init__.py:95\u001b[0m\n\u001b[0;32m     93\u001b[0m \u001b[38;5;28;01mimport\u001b[39;00m \u001b[38;5;21;01mpackaging\u001b[39;00m\u001b[38;5;21;01m.\u001b[39;00m\u001b[38;5;21;01mutils\u001b[39;00m\n\u001b[0;32m     94\u001b[0m \u001b[38;5;28;01mimport\u001b[39;00m \u001b[38;5;21;01mpackaging\u001b[39;00m\u001b[38;5;21;01m.\u001b[39;00m\u001b[38;5;21;01mversion\u001b[39;00m\n\u001b[1;32m---> 95\u001b[0m \u001b[38;5;28;01mfrom\u001b[39;00m \u001b[38;5;21;01mjaraco\u001b[39;00m\u001b[38;5;21;01m.\u001b[39;00m\u001b[38;5;21;01mtext\u001b[39;00m \u001b[38;5;28;01mimport\u001b[39;00m drop_comment, join_continuation, yield_lines\n\u001b[0;32m     96\u001b[0m \u001b[38;5;28;01mfrom\u001b[39;00m \u001b[38;5;21;01mplatformdirs\u001b[39;00m \u001b[38;5;28;01mimport\u001b[39;00m user_cache_dir \u001b[38;5;28;01mas\u001b[39;00m _user_cache_dir\n\u001b[0;32m     98\u001b[0m \u001b[38;5;28;01mif\u001b[39;00m TYPE_CHECKING:\n",
      "File \u001b[1;32m~\\anaconda3\\Lib\\site-packages\\setuptools\\_vendor\\jaraco\\text\\__init__.py:12\u001b[0m\n\u001b[0;32m      9\u001b[0m     \u001b[38;5;28;01mfrom\u001b[39;00m \u001b[38;5;21;01mimportlib_resources\u001b[39;00m \u001b[38;5;28;01mimport\u001b[39;00m files  \u001b[38;5;66;03m# type: ignore\u001b[39;00m\n\u001b[0;32m     11\u001b[0m \u001b[38;5;28;01mfrom\u001b[39;00m \u001b[38;5;21;01mjaraco\u001b[39;00m\u001b[38;5;21;01m.\u001b[39;00m\u001b[38;5;21;01mfunctools\u001b[39;00m \u001b[38;5;28;01mimport\u001b[39;00m compose, method_cache\n\u001b[1;32m---> 12\u001b[0m \u001b[38;5;28;01mfrom\u001b[39;00m \u001b[38;5;21;01mjaraco\u001b[39;00m\u001b[38;5;21;01m.\u001b[39;00m\u001b[38;5;21;01mcontext\u001b[39;00m \u001b[38;5;28;01mimport\u001b[39;00m ExceptionTrap\n\u001b[0;32m     15\u001b[0m \u001b[38;5;28;01mdef\u001b[39;00m \u001b[38;5;21msubstitution\u001b[39m(old, new):\n\u001b[0;32m     16\u001b[0m \u001b[38;5;250m    \u001b[39m\u001b[38;5;124;03m\"\"\"\u001b[39;00m\n\u001b[0;32m     17\u001b[0m \u001b[38;5;124;03m    Return a function that will perform a substitution on a string\u001b[39;00m\n\u001b[0;32m     18\u001b[0m \u001b[38;5;124;03m    \"\"\"\u001b[39;00m\n",
      "File \u001b[1;32m~\\anaconda3\\Lib\\site-packages\\setuptools\\_vendor\\jaraco\\context.py:17\u001b[0m\n\u001b[0;32m     13\u001b[0m \u001b[38;5;28;01mfrom\u001b[39;00m \u001b[38;5;21;01mtyping\u001b[39;00m \u001b[38;5;28;01mimport\u001b[39;00m Iterator\n\u001b[0;32m     16\u001b[0m \u001b[38;5;28;01mif\u001b[39;00m sys\u001b[38;5;241m.\u001b[39mversion_info \u001b[38;5;241m<\u001b[39m (\u001b[38;5;241m3\u001b[39m, \u001b[38;5;241m12\u001b[39m):\n\u001b[1;32m---> 17\u001b[0m     \u001b[38;5;28;01mfrom\u001b[39;00m \u001b[38;5;21;01mbackports\u001b[39;00m \u001b[38;5;28;01mimport\u001b[39;00m tarfile\n\u001b[0;32m     18\u001b[0m \u001b[38;5;28;01melse\u001b[39;00m:\n\u001b[0;32m     19\u001b[0m     \u001b[38;5;28;01mimport\u001b[39;00m \u001b[38;5;21;01mtarfile\u001b[39;00m\n",
      "\u001b[1;31mImportError\u001b[0m: cannot import name 'tarfile' from 'backports' (C:\\Users\\alero\\anaconda3\\Lib\\site-packages\\backports\\__init__.py)"
     ]
    }
   ],
   "source": [
    "# Set the path to your YOLOv5 model\n",
    "model_path = 'C:/Users/alero/Documents/GitHub/Recicling-Collection-Service/Shinyapp/Local/models/YOLOv5/best.pt'\n",
    "yolov5_dir = 'C:/Users/alero/Documents/GitHub/Recicling-Collection-Service/Shinyapp/yolov5'\n",
    "\n",
    "# Load the model\n",
    "model = torch.hub.load(yolov5_dir, 'custom', path=model_path, source='local', force_reload=True)"
   ]
  },
  {
   "cell_type": "code",
   "execution_count": null,
   "id": "a12fac7f",
   "metadata": {
    "scrolled": false
   },
   "outputs": [],
   "source": [
    "img = \"C:/Users/alero/Documents/GitHub/Recicling-Collection-Service/Shinyapp/Local/models/YOLOv5/IMG_7180.jpg\"\n",
    "\n",
    "\n",
    "# Inference\n",
    "results = model(img)\n",
    "\n",
    "# Results\n",
    "results.show()\n"
   ]
  },
  {
   "cell_type": "code",
   "execution_count": 8,
   "id": "f8128a42",
   "metadata": {},
   "outputs": [
    {
     "name": "stdout",
     "output_type": "stream",
     "text": [
      "image 1/1: 3024x4032 8 cans\n",
      "Speed: 91.1ms pre-process, 178.8ms inference, 0.0ms NMS per image at shape (1, 3, 480, 640)\n"
     ]
    }
   ],
   "source": [
    "print(results)"
   ]
  },
  {
   "cell_type": "code",
   "execution_count": 53,
   "id": "fb0cedd4",
   "metadata": {},
   "outputs": [
    {
     "data": {
      "text/html": [
       "<div>\n",
       "<style scoped>\n",
       "    .dataframe tbody tr th:only-of-type {\n",
       "        vertical-align: middle;\n",
       "    }\n",
       "\n",
       "    .dataframe tbody tr th {\n",
       "        vertical-align: top;\n",
       "    }\n",
       "\n",
       "    .dataframe thead th {\n",
       "        text-align: right;\n",
       "    }\n",
       "</style>\n",
       "<table border=\"1\" class=\"dataframe\">\n",
       "  <thead>\n",
       "    <tr style=\"text-align: right;\">\n",
       "      <th></th>\n",
       "      <th>xmin</th>\n",
       "      <th>ymin</th>\n",
       "      <th>xmax</th>\n",
       "      <th>ymax</th>\n",
       "      <th>confidence</th>\n",
       "      <th>class</th>\n",
       "      <th>name</th>\n",
       "    </tr>\n",
       "  </thead>\n",
       "  <tbody>\n",
       "    <tr>\n",
       "      <th>0</th>\n",
       "      <td>1915.854248</td>\n",
       "      <td>751.190247</td>\n",
       "      <td>2412.818115</td>\n",
       "      <td>1785.293945</td>\n",
       "      <td>0.933689</td>\n",
       "      <td>0</td>\n",
       "      <td>can</td>\n",
       "    </tr>\n",
       "    <tr>\n",
       "      <th>1</th>\n",
       "      <td>1520.464844</td>\n",
       "      <td>738.962769</td>\n",
       "      <td>1950.573975</td>\n",
       "      <td>1751.643677</td>\n",
       "      <td>0.914819</td>\n",
       "      <td>0</td>\n",
       "      <td>can</td>\n",
       "    </tr>\n",
       "    <tr>\n",
       "      <th>2</th>\n",
       "      <td>2351.401367</td>\n",
       "      <td>793.119446</td>\n",
       "      <td>2909.859131</td>\n",
       "      <td>1873.154419</td>\n",
       "      <td>0.900879</td>\n",
       "      <td>0</td>\n",
       "      <td>can</td>\n",
       "    </tr>\n",
       "    <tr>\n",
       "      <th>3</th>\n",
       "      <td>1105.829590</td>\n",
       "      <td>735.380615</td>\n",
       "      <td>1577.839111</td>\n",
       "      <td>1744.263062</td>\n",
       "      <td>0.900842</td>\n",
       "      <td>0</td>\n",
       "      <td>can</td>\n",
       "    </tr>\n",
       "    <tr>\n",
       "      <th>4</th>\n",
       "      <td>3169.754639</td>\n",
       "      <td>839.739502</td>\n",
       "      <td>3869.730713</td>\n",
       "      <td>1884.194458</td>\n",
       "      <td>0.894027</td>\n",
       "      <td>0</td>\n",
       "      <td>can</td>\n",
       "    </tr>\n",
       "    <tr>\n",
       "      <th>5</th>\n",
       "      <td>55.974548</td>\n",
       "      <td>944.764832</td>\n",
       "      <td>844.920349</td>\n",
       "      <td>2067.733887</td>\n",
       "      <td>0.885428</td>\n",
       "      <td>0</td>\n",
       "      <td>can</td>\n",
       "    </tr>\n",
       "    <tr>\n",
       "      <th>6</th>\n",
       "      <td>2790.038086</td>\n",
       "      <td>803.020935</td>\n",
       "      <td>3385.772217</td>\n",
       "      <td>1862.077759</td>\n",
       "      <td>0.871088</td>\n",
       "      <td>0</td>\n",
       "      <td>can</td>\n",
       "    </tr>\n",
       "    <tr>\n",
       "      <th>7</th>\n",
       "      <td>638.291870</td>\n",
       "      <td>723.229065</td>\n",
       "      <td>1217.850952</td>\n",
       "      <td>1776.211792</td>\n",
       "      <td>0.867832</td>\n",
       "      <td>0</td>\n",
       "      <td>can</td>\n",
       "    </tr>\n",
       "  </tbody>\n",
       "</table>\n",
       "</div>"
      ],
      "text/plain": [
       "          xmin        ymin         xmax         ymax  confidence  class name\n",
       "0  1915.854248  751.190247  2412.818115  1785.293945    0.933689      0  can\n",
       "1  1520.464844  738.962769  1950.573975  1751.643677    0.914819      0  can\n",
       "2  2351.401367  793.119446  2909.859131  1873.154419    0.900879      0  can\n",
       "3  1105.829590  735.380615  1577.839111  1744.263062    0.900842      0  can\n",
       "4  3169.754639  839.739502  3869.730713  1884.194458    0.894027      0  can\n",
       "5    55.974548  944.764832   844.920349  2067.733887    0.885428      0  can\n",
       "6  2790.038086  803.020935  3385.772217  1862.077759    0.871088      0  can\n",
       "7   638.291870  723.229065  1217.850952  1776.211792    0.867832      0  can"
      ]
     },
     "execution_count": 53,
     "metadata": {},
     "output_type": "execute_result"
    }
   ],
   "source": [
    "results_df = results.pandas().xyxy[0]\n",
    "results_df"
   ]
  },
  {
   "cell_type": "code",
   "execution_count": 10,
   "id": "afa29b45",
   "metadata": {},
   "outputs": [
    {
     "data": {
      "text/html": [
       "<div>\n",
       "<style scoped>\n",
       "    .dataframe tbody tr th:only-of-type {\n",
       "        vertical-align: middle;\n",
       "    }\n",
       "\n",
       "    .dataframe tbody tr th {\n",
       "        vertical-align: top;\n",
       "    }\n",
       "\n",
       "    .dataframe thead th {\n",
       "        text-align: right;\n",
       "    }\n",
       "</style>\n",
       "<table border=\"1\" class=\"dataframe\">\n",
       "  <thead>\n",
       "    <tr style=\"text-align: right;\">\n",
       "      <th></th>\n",
       "      <th>xcenter</th>\n",
       "      <th>ycenter</th>\n",
       "      <th>width</th>\n",
       "      <th>height</th>\n",
       "      <th>confidence</th>\n",
       "      <th>class</th>\n",
       "      <th>name</th>\n",
       "    </tr>\n",
       "  </thead>\n",
       "  <tbody>\n",
       "    <tr>\n",
       "      <th>0</th>\n",
       "      <td>2164.336182</td>\n",
       "      <td>1268.242065</td>\n",
       "      <td>496.963867</td>\n",
       "      <td>1034.103760</td>\n",
       "      <td>0.933689</td>\n",
       "      <td>0</td>\n",
       "      <td>can</td>\n",
       "    </tr>\n",
       "    <tr>\n",
       "      <th>1</th>\n",
       "      <td>1735.519409</td>\n",
       "      <td>1245.303223</td>\n",
       "      <td>430.109131</td>\n",
       "      <td>1012.680908</td>\n",
       "      <td>0.914819</td>\n",
       "      <td>0</td>\n",
       "      <td>can</td>\n",
       "    </tr>\n",
       "    <tr>\n",
       "      <th>2</th>\n",
       "      <td>2630.630371</td>\n",
       "      <td>1333.136963</td>\n",
       "      <td>558.457764</td>\n",
       "      <td>1080.034912</td>\n",
       "      <td>0.900879</td>\n",
       "      <td>0</td>\n",
       "      <td>can</td>\n",
       "    </tr>\n",
       "    <tr>\n",
       "      <th>3</th>\n",
       "      <td>1341.834351</td>\n",
       "      <td>1239.821777</td>\n",
       "      <td>472.009521</td>\n",
       "      <td>1008.882446</td>\n",
       "      <td>0.900842</td>\n",
       "      <td>0</td>\n",
       "      <td>can</td>\n",
       "    </tr>\n",
       "    <tr>\n",
       "      <th>4</th>\n",
       "      <td>3519.742676</td>\n",
       "      <td>1361.967041</td>\n",
       "      <td>699.976074</td>\n",
       "      <td>1044.454956</td>\n",
       "      <td>0.894027</td>\n",
       "      <td>0</td>\n",
       "      <td>can</td>\n",
       "    </tr>\n",
       "    <tr>\n",
       "      <th>5</th>\n",
       "      <td>450.447449</td>\n",
       "      <td>1506.249390</td>\n",
       "      <td>788.945801</td>\n",
       "      <td>1122.968994</td>\n",
       "      <td>0.885428</td>\n",
       "      <td>0</td>\n",
       "      <td>can</td>\n",
       "    </tr>\n",
       "    <tr>\n",
       "      <th>6</th>\n",
       "      <td>3087.905273</td>\n",
       "      <td>1332.549316</td>\n",
       "      <td>595.734131</td>\n",
       "      <td>1059.056885</td>\n",
       "      <td>0.871088</td>\n",
       "      <td>0</td>\n",
       "      <td>can</td>\n",
       "    </tr>\n",
       "    <tr>\n",
       "      <th>7</th>\n",
       "      <td>928.071411</td>\n",
       "      <td>1249.720459</td>\n",
       "      <td>579.559082</td>\n",
       "      <td>1052.982666</td>\n",
       "      <td>0.867832</td>\n",
       "      <td>0</td>\n",
       "      <td>can</td>\n",
       "    </tr>\n",
       "  </tbody>\n",
       "</table>\n",
       "</div>"
      ],
      "text/plain": [
       "       xcenter      ycenter       width       height  confidence  class name\n",
       "0  2164.336182  1268.242065  496.963867  1034.103760    0.933689      0  can\n",
       "1  1735.519409  1245.303223  430.109131  1012.680908    0.914819      0  can\n",
       "2  2630.630371  1333.136963  558.457764  1080.034912    0.900879      0  can\n",
       "3  1341.834351  1239.821777  472.009521  1008.882446    0.900842      0  can\n",
       "4  3519.742676  1361.967041  699.976074  1044.454956    0.894027      0  can\n",
       "5   450.447449  1506.249390  788.945801  1122.968994    0.885428      0  can\n",
       "6  3087.905273  1332.549316  595.734131  1059.056885    0.871088      0  can\n",
       "7   928.071411  1249.720459  579.559082  1052.982666    0.867832      0  can"
      ]
     },
     "execution_count": 10,
     "metadata": {},
     "output_type": "execute_result"
    }
   ],
   "source": [
    "results_df = results.pandas().xywh[0]\n",
    "results_df"
   ]
  },
  {
   "cell_type": "code",
   "execution_count": null,
   "id": "3be11c05",
   "metadata": {},
   "outputs": [],
   "source": [
    "results_df.values"
   ]
  },
  {
   "cell_type": "code",
   "execution_count": 18,
   "id": "98106b6e",
   "metadata": {},
   "outputs": [
    {
     "data": {
      "text/html": [
       "<div>\n",
       "<style scoped>\n",
       "    .dataframe tbody tr th:only-of-type {\n",
       "        vertical-align: middle;\n",
       "    }\n",
       "\n",
       "    .dataframe tbody tr th {\n",
       "        vertical-align: top;\n",
       "    }\n",
       "\n",
       "    .dataframe thead th {\n",
       "        text-align: right;\n",
       "    }\n",
       "</style>\n",
       "<table border=\"1\" class=\"dataframe\">\n",
       "  <thead>\n",
       "    <tr style=\"text-align: right;\">\n",
       "      <th></th>\n",
       "      <th>xmin</th>\n",
       "      <th>ymin</th>\n",
       "      <th>xmax</th>\n",
       "      <th>ymax</th>\n",
       "      <th>confidence</th>\n",
       "      <th>class</th>\n",
       "      <th>name</th>\n",
       "    </tr>\n",
       "  </thead>\n",
       "  <tbody>\n",
       "    <tr>\n",
       "      <th>0</th>\n",
       "      <td>1915.854248</td>\n",
       "      <td>751.190247</td>\n",
       "      <td>2412.818115</td>\n",
       "      <td>1785.293945</td>\n",
       "      <td>0.933689</td>\n",
       "      <td>0</td>\n",
       "      <td>can</td>\n",
       "    </tr>\n",
       "    <tr>\n",
       "      <th>1</th>\n",
       "      <td>1520.464844</td>\n",
       "      <td>738.962769</td>\n",
       "      <td>1950.573975</td>\n",
       "      <td>1751.643677</td>\n",
       "      <td>0.914819</td>\n",
       "      <td>0</td>\n",
       "      <td>can</td>\n",
       "    </tr>\n",
       "    <tr>\n",
       "      <th>2</th>\n",
       "      <td>2351.401367</td>\n",
       "      <td>793.119446</td>\n",
       "      <td>2909.859131</td>\n",
       "      <td>1873.154419</td>\n",
       "      <td>0.900879</td>\n",
       "      <td>0</td>\n",
       "      <td>can</td>\n",
       "    </tr>\n",
       "    <tr>\n",
       "      <th>3</th>\n",
       "      <td>1105.829590</td>\n",
       "      <td>735.380615</td>\n",
       "      <td>1577.839111</td>\n",
       "      <td>1744.263062</td>\n",
       "      <td>0.900842</td>\n",
       "      <td>0</td>\n",
       "      <td>can</td>\n",
       "    </tr>\n",
       "    <tr>\n",
       "      <th>4</th>\n",
       "      <td>3169.754639</td>\n",
       "      <td>839.739502</td>\n",
       "      <td>3869.730713</td>\n",
       "      <td>1884.194458</td>\n",
       "      <td>0.894027</td>\n",
       "      <td>0</td>\n",
       "      <td>can</td>\n",
       "    </tr>\n",
       "    <tr>\n",
       "      <th>5</th>\n",
       "      <td>55.974548</td>\n",
       "      <td>944.764832</td>\n",
       "      <td>844.920349</td>\n",
       "      <td>2067.733887</td>\n",
       "      <td>0.885428</td>\n",
       "      <td>0</td>\n",
       "      <td>can</td>\n",
       "    </tr>\n",
       "    <tr>\n",
       "      <th>6</th>\n",
       "      <td>2790.038086</td>\n",
       "      <td>803.020935</td>\n",
       "      <td>3385.772217</td>\n",
       "      <td>1862.077759</td>\n",
       "      <td>0.871088</td>\n",
       "      <td>0</td>\n",
       "      <td>can</td>\n",
       "    </tr>\n",
       "    <tr>\n",
       "      <th>7</th>\n",
       "      <td>638.291870</td>\n",
       "      <td>723.229065</td>\n",
       "      <td>1217.850952</td>\n",
       "      <td>1776.211792</td>\n",
       "      <td>0.867832</td>\n",
       "      <td>0</td>\n",
       "      <td>can</td>\n",
       "    </tr>\n",
       "  </tbody>\n",
       "</table>\n",
       "</div>"
      ],
      "text/plain": [
       "          xmin        ymin         xmax         ymax  confidence  class name\n",
       "0  1915.854248  751.190247  2412.818115  1785.293945    0.933689      0  can\n",
       "1  1520.464844  738.962769  1950.573975  1751.643677    0.914819      0  can\n",
       "2  2351.401367  793.119446  2909.859131  1873.154419    0.900879      0  can\n",
       "3  1105.829590  735.380615  1577.839111  1744.263062    0.900842      0  can\n",
       "4  3169.754639  839.739502  3869.730713  1884.194458    0.894027      0  can\n",
       "5    55.974548  944.764832   844.920349  2067.733887    0.885428      0  can\n",
       "6  2790.038086  803.020935  3385.772217  1862.077759    0.871088      0  can\n",
       "7   638.291870  723.229065  1217.850952  1776.211792    0.867832      0  can"
      ]
     },
     "execution_count": 18,
     "metadata": {},
     "output_type": "execute_result"
    }
   ],
   "source": [
    "results_df = results.pandas().xyxy[0]\n",
    "results_df"
   ]
  },
  {
   "cell_type": "code",
   "execution_count": 17,
   "id": "ac03e07f",
   "metadata": {},
   "outputs": [
    {
     "name": "stdout",
     "output_type": "stream",
     "text": [
      "2164.336181640625\n",
      "1735.5194091796875\n",
      "2630.63037109375\n",
      "1341.8343505859375\n",
      "3519.74267578125\n",
      "450.44744873046875\n",
      "3087.9052734375\n",
      "928.0714111328125\n"
     ]
    }
   ],
   "source": [
    "for i in results_df.values:\n",
    "    print(i[0])"
   ]
  },
  {
   "cell_type": "code",
   "execution_count": 20,
   "id": "ac4b933d",
   "metadata": {},
   "outputs": [
    {
     "name": "stdout",
     "output_type": "stream",
     "text": [
      "1915 751 2412 1785\n",
      "1520 738 1950 1751\n",
      "2351 793 2909 1873\n",
      "1105 735 1577 1744\n",
      "3169 839 3869 1884\n",
      "55 944 844 2067\n",
      "2790 803 3385 1862\n",
      "638 723 1217 1776\n"
     ]
    }
   ],
   "source": [
    "for _, pred in results.pandas().xyxy[0].iterrows():\n",
    "    x0, y0, x1, y1 = int(pred['xmin']), int(pred['ymin']), int(pred['xmax']), int(pred['ymax'])\n",
    "    label = pred['name']\n",
    "    print(x0, y0, x1, y1)"
   ]
  },
  {
   "cell_type": "code",
   "execution_count": 42,
   "id": "30e21ae8",
   "metadata": {},
   "outputs": [
    {
     "data": {
      "text/plain": [
       "8"
      ]
     },
     "execution_count": 42,
     "metadata": {},
     "output_type": "execute_result"
    }
   ],
   "source": [
    "sum(results_df.name == 'can')"
   ]
  },
  {
   "cell_type": "code",
   "execution_count": 43,
   "id": "1a42ef0a",
   "metadata": {},
   "outputs": [
    {
     "data": {
      "text/plain": [
       "3"
      ]
     },
     "execution_count": 43,
     "metadata": {},
     "output_type": "execute_result"
    }
   ],
   "source": [
    "sum(results_df.name == 'glass bottle')"
   ]
  },
  {
   "cell_type": "code",
   "execution_count": 44,
   "id": "12905b46",
   "metadata": {},
   "outputs": [
    {
     "data": {
      "text/plain": [
       "0"
      ]
     },
     "execution_count": 44,
     "metadata": {},
     "output_type": "execute_result"
    }
   ],
   "source": [
    "sum(results_df.name == 'plastic bottle')"
   ]
  },
  {
   "cell_type": "code",
   "execution_count": 45,
   "id": "ab6d534c",
   "metadata": {},
   "outputs": [
    {
     "data": {
      "text/plain": [
       "['can',\n",
       " 'can',\n",
       " 'can',\n",
       " 'can',\n",
       " 'can',\n",
       " 'can',\n",
       " 'can',\n",
       " 'can',\n",
       " 'glass bottle',\n",
       " 'glass bottle',\n",
       " 'glass bottle']"
      ]
     },
     "execution_count": 45,
     "metadata": {},
     "output_type": "execute_result"
    }
   ],
   "source": [
    "l_classes = results_df['name'].tolist()\n",
    "l_classes"
   ]
  },
  {
   "cell_type": "code",
   "execution_count": 15,
   "id": "e15229f7",
   "metadata": {},
   "outputs": [],
   "source": [
    "# from ultralytics import YOLO\n",
    "\n",
    "# # Load model\n",
    "# model = YOLO('C:/Users/alero/Documents/GitHub/Recicling-Collection-Service/Shinyapp/Local/models/YOLOv5/best.pt')\n",
    "\n",
    "# # Run inference on an image\n",
    "# results = model('C:/Users/alero/Documents/GitHub/Recicling-Collection-Service/Shinyapp/Local/models/YOLOv5/IMG_6011.jpg')  # list of 1 Results object"
   ]
  },
  {
   "cell_type": "markdown",
   "id": "5230fc57",
   "metadata": {},
   "source": [
    "# Video"
   ]
  },
  {
   "cell_type": "code",
   "execution_count": 48,
   "id": "9b2a7590",
   "metadata": {},
   "outputs": [],
   "source": [
    "video = \"Desktop/IMG_0254.MOV\""
   ]
  },
  {
   "cell_type": "code",
   "execution_count": 54,
   "id": "e06bba43",
   "metadata": {},
   "outputs": [
    {
     "name": "stderr",
     "output_type": "stream",
     "text": [
      "\u001b[34m\u001b[1mdetect: \u001b[0mweights=['model_path'], source=video, data=yolov5\\data\\coco128.yaml, imgsz=[640, 640], conf_thres=0.1, iou_thres=0.45, max_det=1000, device=, view_img=False, save_txt=False, save_format=0, save_csv=False, save_conf=False, save_crop=False, nosave=False, classes=None, agnostic_nms=False, augment=False, visualize=False, update=False, project=yolov5\\runs\\detect, name=exp, exist_ok=False, line_thickness=3, hide_labels=False, hide_conf=False, half=False, dnn=False, vid_stride=1\n",
      "YOLOv5  v7.0-362-ge8a30cf8 Python-3.9.19 torch-2.0.1+cpu CPU\n",
      "\n",
      "Traceback (most recent call last):\n",
      "  File \"C:\\Users\\alero\\Documents\\GitHub\\Recicling-Collection-Service\\Shinyapp\\yolov5\\detect.py\", line 437, in <module>\n",
      "    main(opt)\n",
      "  File \"C:\\Users\\alero\\Documents\\GitHub\\Recicling-Collection-Service\\Shinyapp\\yolov5\\detect.py\", line 432, in main\n",
      "    run(**vars(opt))\n",
      "  File \"C:\\Users\\alero\\.conda\\envs\\ML\\lib\\site-packages\\torch\\utils\\_contextlib.py\", line 115, in decorate_context\n",
      "    return func(*args, **kwargs)\n",
      "  File \"C:\\Users\\alero\\Documents\\GitHub\\Recicling-Collection-Service\\Shinyapp\\yolov5\\detect.py\", line 166, in run\n",
      "    model = DetectMultiBackend(weights, device=device, dnn=dnn, data=data, fp16=half)\n",
      "  File \"C:\\Users\\alero\\Documents\\GitHub\\Recicling-Collection-Service\\Shinyapp\\yolov5\\models\\common.py\", line 669, in __init__\n",
      "    raise NotImplementedError(f\"ERROR: {w} is not a supported format\")\n",
      "NotImplementedError: ERROR: model_path is not a supported format\n"
     ]
    }
   ],
   "source": [
    "!python yolov5/detect.py --weights model_path --img 640 --conf 0.1 --source video"
   ]
  },
  {
   "cell_type": "markdown",
   "id": "17371410",
   "metadata": {},
   "source": [
    "# YOLOv11"
   ]
  },
  {
   "cell_type": "code",
   "execution_count": 8,
   "id": "b3762ebf",
   "metadata": {},
   "outputs": [
    {
     "name": "stdout",
     "output_type": "stream",
     "text": [
      "C:\\Users\\alero\n"
     ]
    }
   ],
   "source": [
    "cd"
   ]
  },
  {
   "cell_type": "code",
   "execution_count": 20,
   "id": "d589a117",
   "metadata": {},
   "outputs": [
    {
     "name": "stdout",
     "output_type": "stream",
     "text": [
      "Name: torch\n",
      "Version: 2.4.1\n",
      "Summary: Tensors and Dynamic neural networks in Python with strong GPU acceleration\n",
      "Home-page: https://pytorch.org/\n",
      "Author: PyTorch Team\n",
      "Author-email: packages@pytorch.org\n",
      "License: BSD-3\n",
      "Location: C:\\Users\\alero\\anaconda3\\Lib\\site-packages\n",
      "Requires: filelock, fsspec, jinja2, networkx, sympy, typing-extensions\n",
      "Required-by: thop, torchvision, ultralytics, ultralytics-thop\n"
     ]
    }
   ],
   "source": [
    "!pip show torch"
   ]
  },
  {
   "cell_type": "code",
   "execution_count": 19,
   "id": "b8965ab4",
   "metadata": {},
   "outputs": [
    {
     "name": "stdout",
     "output_type": "stream",
     "text": [
      "Name: ultralytics\n",
      "Version: 8.3.3\n",
      "Summary: Ultralytics YOLO for SOTA object detection, multi-object tracking, instance segmentation, pose estimation and image classification.\n",
      "Home-page: \n",
      "Author: Ayush Chaurasia\n",
      "Author-email: Glenn Jocher <glenn.jocher@ultralytics.com>, Jing Qiu <jing.qiu@ultralytics.com>\n",
      "License: AGPL-3.0\n",
      "Location: C:\\Users\\alero\\anaconda3\\Lib\\site-packages\n",
      "Requires: matplotlib, numpy, opencv-python, pandas, pillow, psutil, py-cpuinfo, pyyaml, requests, scipy, seaborn, torch, torch, torchvision, tqdm, ultralytics-thop\n",
      "Required-by: \n"
     ]
    }
   ],
   "source": [
    "!pip show ultralytics"
   ]
  },
  {
   "cell_type": "code",
   "execution_count": 21,
   "id": "1df9d827",
   "metadata": {},
   "outputs": [
    {
     "name": "stdout",
     "output_type": "stream",
     "text": [
      "Requirement already satisfied: torch in c:\\users\\alero\\anaconda3\\lib\\site-packages (2.4.1)\n",
      "Requirement already satisfied: ultralytics in c:\\users\\alero\\anaconda3\\lib\\site-packages (8.3.3)\n",
      "Requirement already satisfied: filelock in c:\\users\\alero\\anaconda3\\lib\\site-packages (from torch) (3.13.1)\n",
      "Requirement already satisfied: typing-extensions>=4.8.0 in c:\\users\\alero\\anaconda3\\lib\\site-packages (from torch) (4.9.0)\n",
      "Requirement already satisfied: sympy in c:\\users\\alero\\anaconda3\\lib\\site-packages (from torch) (1.12)\n",
      "Requirement already satisfied: networkx in c:\\users\\alero\\anaconda3\\lib\\site-packages (from torch) (3.1)\n",
      "Requirement already satisfied: jinja2 in c:\\users\\alero\\anaconda3\\lib\\site-packages (from torch) (3.1.3)\n",
      "Requirement already satisfied: fsspec in c:\\users\\alero\\anaconda3\\lib\\site-packages (from torch) (2023.10.0)\n",
      "Requirement already satisfied: numpy<2.0.0,>=1.23.0 in c:\\users\\alero\\anaconda3\\lib\\site-packages (from ultralytics) (1.26.4)\n",
      "Requirement already satisfied: matplotlib>=3.3.0 in c:\\users\\alero\\anaconda3\\lib\\site-packages (from ultralytics) (3.8.0)\n",
      "Requirement already satisfied: opencv-python>=4.6.0 in c:\\users\\alero\\anaconda3\\lib\\site-packages (from ultralytics) (4.10.0.84)\n",
      "Requirement already satisfied: pillow>=7.1.2 in c:\\users\\alero\\anaconda3\\lib\\site-packages (from ultralytics) (10.4.0)\n",
      "Requirement already satisfied: pyyaml>=5.3.1 in c:\\users\\alero\\anaconda3\\lib\\site-packages (from ultralytics) (6.0.1)\n",
      "Requirement already satisfied: requests>=2.23.0 in c:\\users\\alero\\anaconda3\\lib\\site-packages (from ultralytics) (2.32.3)\n",
      "Requirement already satisfied: scipy>=1.4.1 in c:\\users\\alero\\anaconda3\\lib\\site-packages (from ultralytics) (1.11.4)\n",
      "Requirement already satisfied: torchvision>=0.9.0 in c:\\users\\alero\\anaconda3\\lib\\site-packages (from ultralytics) (0.19.1)\n",
      "Requirement already satisfied: tqdm>=4.64.0 in c:\\users\\alero\\anaconda3\\lib\\site-packages (from ultralytics) (4.65.0)\n",
      "Requirement already satisfied: psutil in c:\\users\\alero\\anaconda3\\lib\\site-packages (from ultralytics) (5.9.0)\n",
      "Requirement already satisfied: py-cpuinfo in c:\\users\\alero\\anaconda3\\lib\\site-packages (from ultralytics) (9.0.0)\n",
      "Requirement already satisfied: pandas>=1.1.4 in c:\\users\\alero\\anaconda3\\lib\\site-packages (from ultralytics) (2.1.4)\n",
      "Requirement already satisfied: seaborn>=0.11.0 in c:\\users\\alero\\anaconda3\\lib\\site-packages (from ultralytics) (0.12.2)\n",
      "Requirement already satisfied: ultralytics-thop>=2.0.0 in c:\\users\\alero\\anaconda3\\lib\\site-packages (from ultralytics) (2.0.8)\n",
      "Requirement already satisfied: contourpy>=1.0.1 in c:\\users\\alero\\anaconda3\\lib\\site-packages (from matplotlib>=3.3.0->ultralytics) (1.2.0)\n",
      "Requirement already satisfied: cycler>=0.10 in c:\\users\\alero\\anaconda3\\lib\\site-packages (from matplotlib>=3.3.0->ultralytics) (0.11.0)\n",
      "Requirement already satisfied: fonttools>=4.22.0 in c:\\users\\alero\\anaconda3\\lib\\site-packages (from matplotlib>=3.3.0->ultralytics) (4.25.0)\n",
      "Requirement already satisfied: kiwisolver>=1.0.1 in c:\\users\\alero\\anaconda3\\lib\\site-packages (from matplotlib>=3.3.0->ultralytics) (1.4.4)\n",
      "Requirement already satisfied: packaging>=20.0 in c:\\users\\alero\\anaconda3\\lib\\site-packages (from matplotlib>=3.3.0->ultralytics) (23.1)\n",
      "Requirement already satisfied: pyparsing>=2.3.1 in c:\\users\\alero\\anaconda3\\lib\\site-packages (from matplotlib>=3.3.0->ultralytics) (3.0.9)\n",
      "Requirement already satisfied: python-dateutil>=2.7 in c:\\users\\alero\\anaconda3\\lib\\site-packages (from matplotlib>=3.3.0->ultralytics) (2.8.2)\n",
      "Requirement already satisfied: pytz>=2020.1 in c:\\users\\alero\\anaconda3\\lib\\site-packages (from pandas>=1.1.4->ultralytics) (2023.3.post1)\n",
      "Requirement already satisfied: tzdata>=2022.1 in c:\\users\\alero\\anaconda3\\lib\\site-packages (from pandas>=1.1.4->ultralytics) (2023.3)\n",
      "Requirement already satisfied: charset-normalizer<4,>=2 in c:\\users\\alero\\anaconda3\\lib\\site-packages (from requests>=2.23.0->ultralytics) (2.0.4)\n",
      "Requirement already satisfied: idna<4,>=2.5 in c:\\users\\alero\\anaconda3\\lib\\site-packages (from requests>=2.23.0->ultralytics) (3.4)\n",
      "Requirement already satisfied: urllib3<3,>=1.21.1 in c:\\users\\alero\\anaconda3\\lib\\site-packages (from requests>=2.23.0->ultralytics) (2.0.7)\n",
      "Requirement already satisfied: certifi>=2017.4.17 in c:\\users\\alero\\anaconda3\\lib\\site-packages (from requests>=2.23.0->ultralytics) (2024.2.2)\n",
      "Requirement already satisfied: colorama in c:\\users\\alero\\anaconda3\\lib\\site-packages (from tqdm>=4.64.0->ultralytics) (0.4.6)\n",
      "Requirement already satisfied: MarkupSafe>=2.0 in c:\\users\\alero\\anaconda3\\lib\\site-packages (from jinja2->torch) (2.1.3)\n",
      "Requirement already satisfied: mpmath>=0.19 in c:\\users\\alero\\anaconda3\\lib\\site-packages (from sympy->torch) (1.3.0)\n",
      "Requirement already satisfied: six>=1.5 in c:\\users\\alero\\anaconda3\\lib\\site-packages (from python-dateutil>=2.7->matplotlib>=3.3.0->ultralytics) (1.16.0)\n"
     ]
    }
   ],
   "source": [
    "!pip install --upgrade torch ultralytics"
   ]
  },
  {
   "cell_type": "code",
   "execution_count": 22,
   "id": "da61dcb1",
   "metadata": {},
   "outputs": [
    {
     "ename": "AttributeError",
     "evalue": "Can't get attribute 'C3k2' on <module 'ultralytics.nn.modules.block' from 'C:\\\\Users\\\\alero\\\\anaconda3\\\\Lib\\\\site-packages\\\\ultralytics\\\\nn\\\\modules\\\\block.py'>",
     "output_type": "error",
     "traceback": [
      "\u001b[1;31m---------------------------------------------------------------------------\u001b[0m",
      "\u001b[1;31mAttributeError\u001b[0m                            Traceback (most recent call last)",
      "Cell \u001b[1;32mIn[22], line 7\u001b[0m\n\u001b[0;32m      4\u001b[0m Y11s_model_path \u001b[38;5;241m=\u001b[39m \u001b[38;5;124m'\u001b[39m\u001b[38;5;124mC:/Users/alero/Documents/GitHub/Recicling-Collection-Service/Shinyapp/Local/models/YOLOv5/Yv11sbest.pt\u001b[39m\u001b[38;5;124m'\u001b[39m\n\u001b[0;32m      6\u001b[0m \u001b[38;5;66;03m# # Load a model\u001b[39;00m\n\u001b[1;32m----> 7\u001b[0m model \u001b[38;5;241m=\u001b[39m YOLO(Y11s_model_path)\n",
      "File \u001b[1;32m~\\anaconda3\\Lib\\site-packages\\ultralytics\\models\\yolo\\model.py:23\u001b[0m, in \u001b[0;36mYOLO.__init__\u001b[1;34m(self, model, task, verbose)\u001b[0m\n\u001b[0;32m     20\u001b[0m     \u001b[38;5;28mself\u001b[39m\u001b[38;5;241m.\u001b[39m\u001b[38;5;18m__dict__\u001b[39m \u001b[38;5;241m=\u001b[39m new_instance\u001b[38;5;241m.\u001b[39m\u001b[38;5;18m__dict__\u001b[39m\n\u001b[0;32m     21\u001b[0m \u001b[38;5;28;01melse\u001b[39;00m:\n\u001b[0;32m     22\u001b[0m     \u001b[38;5;66;03m# Continue with default YOLO initialization\u001b[39;00m\n\u001b[1;32m---> 23\u001b[0m     \u001b[38;5;28msuper\u001b[39m()\u001b[38;5;241m.\u001b[39m\u001b[38;5;21m__init__\u001b[39m(model\u001b[38;5;241m=\u001b[39mmodel, task\u001b[38;5;241m=\u001b[39mtask, verbose\u001b[38;5;241m=\u001b[39mverbose)\n",
      "File \u001b[1;32m~\\anaconda3\\Lib\\site-packages\\ultralytics\\engine\\model.py:145\u001b[0m, in \u001b[0;36mModel.__init__\u001b[1;34m(self, model, task, verbose)\u001b[0m\n\u001b[0;32m    143\u001b[0m     \u001b[38;5;28mself\u001b[39m\u001b[38;5;241m.\u001b[39m_new(model, task\u001b[38;5;241m=\u001b[39mtask, verbose\u001b[38;5;241m=\u001b[39mverbose)\n\u001b[0;32m    144\u001b[0m \u001b[38;5;28;01melse\u001b[39;00m:\n\u001b[1;32m--> 145\u001b[0m     \u001b[38;5;28mself\u001b[39m\u001b[38;5;241m.\u001b[39m_load(model, task\u001b[38;5;241m=\u001b[39mtask)\n",
      "File \u001b[1;32m~\\anaconda3\\Lib\\site-packages\\ultralytics\\engine\\model.py:285\u001b[0m, in \u001b[0;36mModel._load\u001b[1;34m(self, weights, task)\u001b[0m\n\u001b[0;32m    282\u001b[0m weights \u001b[38;5;241m=\u001b[39m checks\u001b[38;5;241m.\u001b[39mcheck_model_file_from_stem(weights)  \u001b[38;5;66;03m# add suffix, i.e. yolov8n -> yolov8n.pt\u001b[39;00m\n\u001b[0;32m    284\u001b[0m \u001b[38;5;28;01mif\u001b[39;00m Path(weights)\u001b[38;5;241m.\u001b[39msuffix \u001b[38;5;241m==\u001b[39m \u001b[38;5;124m\"\u001b[39m\u001b[38;5;124m.pt\u001b[39m\u001b[38;5;124m\"\u001b[39m:\n\u001b[1;32m--> 285\u001b[0m     \u001b[38;5;28mself\u001b[39m\u001b[38;5;241m.\u001b[39mmodel, \u001b[38;5;28mself\u001b[39m\u001b[38;5;241m.\u001b[39mckpt \u001b[38;5;241m=\u001b[39m attempt_load_one_weight(weights)\n\u001b[0;32m    286\u001b[0m     \u001b[38;5;28mself\u001b[39m\u001b[38;5;241m.\u001b[39mtask \u001b[38;5;241m=\u001b[39m \u001b[38;5;28mself\u001b[39m\u001b[38;5;241m.\u001b[39mmodel\u001b[38;5;241m.\u001b[39margs[\u001b[38;5;124m\"\u001b[39m\u001b[38;5;124mtask\u001b[39m\u001b[38;5;124m\"\u001b[39m]\n\u001b[0;32m    287\u001b[0m     \u001b[38;5;28mself\u001b[39m\u001b[38;5;241m.\u001b[39moverrides \u001b[38;5;241m=\u001b[39m \u001b[38;5;28mself\u001b[39m\u001b[38;5;241m.\u001b[39mmodel\u001b[38;5;241m.\u001b[39margs \u001b[38;5;241m=\u001b[39m \u001b[38;5;28mself\u001b[39m\u001b[38;5;241m.\u001b[39m_reset_ckpt_args(\u001b[38;5;28mself\u001b[39m\u001b[38;5;241m.\u001b[39mmodel\u001b[38;5;241m.\u001b[39margs)\n",
      "File \u001b[1;32m~\\anaconda3\\Lib\\site-packages\\ultralytics\\nn\\tasks.py:906\u001b[0m, in \u001b[0;36mattempt_load_one_weight\u001b[1;34m(weight, device, inplace, fuse)\u001b[0m\n\u001b[0;32m    904\u001b[0m \u001b[38;5;28;01mdef\u001b[39;00m \u001b[38;5;21mattempt_load_one_weight\u001b[39m(weight, device\u001b[38;5;241m=\u001b[39m\u001b[38;5;28;01mNone\u001b[39;00m, inplace\u001b[38;5;241m=\u001b[39m\u001b[38;5;28;01mTrue\u001b[39;00m, fuse\u001b[38;5;241m=\u001b[39m\u001b[38;5;28;01mFalse\u001b[39;00m):\n\u001b[0;32m    905\u001b[0m \u001b[38;5;250m    \u001b[39m\u001b[38;5;124;03m\"\"\"Loads a single model weights.\"\"\"\u001b[39;00m\n\u001b[1;32m--> 906\u001b[0m     ckpt, weight \u001b[38;5;241m=\u001b[39m torch_safe_load(weight)  \u001b[38;5;66;03m# load ckpt\u001b[39;00m\n\u001b[0;32m    907\u001b[0m     args \u001b[38;5;241m=\u001b[39m {\u001b[38;5;241m*\u001b[39m\u001b[38;5;241m*\u001b[39mDEFAULT_CFG_DICT, \u001b[38;5;241m*\u001b[39m\u001b[38;5;241m*\u001b[39m(ckpt\u001b[38;5;241m.\u001b[39mget(\u001b[38;5;124m\"\u001b[39m\u001b[38;5;124mtrain_args\u001b[39m\u001b[38;5;124m\"\u001b[39m, {}))}  \u001b[38;5;66;03m# combine model and default args, preferring model args\u001b[39;00m\n\u001b[0;32m    908\u001b[0m     model \u001b[38;5;241m=\u001b[39m (ckpt\u001b[38;5;241m.\u001b[39mget(\u001b[38;5;124m\"\u001b[39m\u001b[38;5;124mema\u001b[39m\u001b[38;5;124m\"\u001b[39m) \u001b[38;5;129;01mor\u001b[39;00m ckpt[\u001b[38;5;124m\"\u001b[39m\u001b[38;5;124mmodel\u001b[39m\u001b[38;5;124m\"\u001b[39m])\u001b[38;5;241m.\u001b[39mto(device)\u001b[38;5;241m.\u001b[39mfloat()  \u001b[38;5;66;03m# FP32 model\u001b[39;00m\n",
      "File \u001b[1;32m~\\anaconda3\\Lib\\site-packages\\ultralytics\\nn\\tasks.py:833\u001b[0m, in \u001b[0;36mtorch_safe_load\u001b[1;34m(weight, safe_only)\u001b[0m\n\u001b[0;32m    831\u001b[0m                 ckpt \u001b[38;5;241m=\u001b[39m torch\u001b[38;5;241m.\u001b[39mload(f, pickle_module\u001b[38;5;241m=\u001b[39msafe_pickle)\n\u001b[0;32m    832\u001b[0m         \u001b[38;5;28;01melse\u001b[39;00m:\n\u001b[1;32m--> 833\u001b[0m             ckpt \u001b[38;5;241m=\u001b[39m torch\u001b[38;5;241m.\u001b[39mload(file, map_location\u001b[38;5;241m=\u001b[39m\u001b[38;5;124m\"\u001b[39m\u001b[38;5;124mcpu\u001b[39m\u001b[38;5;124m\"\u001b[39m)\n\u001b[0;32m    835\u001b[0m \u001b[38;5;28;01mexcept\u001b[39;00m \u001b[38;5;167;01mModuleNotFoundError\u001b[39;00m \u001b[38;5;28;01mas\u001b[39;00m e:  \u001b[38;5;66;03m# e.name is missing module name\u001b[39;00m\n\u001b[0;32m    836\u001b[0m     \u001b[38;5;28;01mif\u001b[39;00m e\u001b[38;5;241m.\u001b[39mname \u001b[38;5;241m==\u001b[39m \u001b[38;5;124m\"\u001b[39m\u001b[38;5;124mmodels\u001b[39m\u001b[38;5;124m\"\u001b[39m:\n",
      "File \u001b[1;32m~\\anaconda3\\Lib\\site-packages\\ultralytics\\utils\\patches.py:86\u001b[0m, in \u001b[0;36mtorch_load\u001b[1;34m(*args, **kwargs)\u001b[0m\n\u001b[0;32m     83\u001b[0m \u001b[38;5;28;01mif\u001b[39;00m TORCH_1_13 \u001b[38;5;129;01mand\u001b[39;00m \u001b[38;5;124m\"\u001b[39m\u001b[38;5;124mweights_only\u001b[39m\u001b[38;5;124m\"\u001b[39m \u001b[38;5;129;01mnot\u001b[39;00m \u001b[38;5;129;01min\u001b[39;00m kwargs:\n\u001b[0;32m     84\u001b[0m     kwargs[\u001b[38;5;124m\"\u001b[39m\u001b[38;5;124mweights_only\u001b[39m\u001b[38;5;124m\"\u001b[39m] \u001b[38;5;241m=\u001b[39m \u001b[38;5;28;01mFalse\u001b[39;00m\n\u001b[1;32m---> 86\u001b[0m \u001b[38;5;28;01mreturn\u001b[39;00m _torch_load(\u001b[38;5;241m*\u001b[39margs, \u001b[38;5;241m*\u001b[39m\u001b[38;5;241m*\u001b[39mkwargs)\n",
      "File \u001b[1;32m~\\anaconda3\\Lib\\site-packages\\torch\\serialization.py:1097\u001b[0m, in \u001b[0;36mload\u001b[1;34m(f, map_location, pickle_module, weights_only, mmap, **pickle_load_args)\u001b[0m\n\u001b[0;32m   1095\u001b[0m             \u001b[38;5;28;01mexcept\u001b[39;00m \u001b[38;5;167;01mRuntimeError\u001b[39;00m \u001b[38;5;28;01mas\u001b[39;00m e:\n\u001b[0;32m   1096\u001b[0m                 \u001b[38;5;28;01mraise\u001b[39;00m pickle\u001b[38;5;241m.\u001b[39mUnpicklingError(_get_wo_message(\u001b[38;5;28mstr\u001b[39m(e))) \u001b[38;5;28;01mfrom\u001b[39;00m \u001b[38;5;28;01mNone\u001b[39;00m\n\u001b[1;32m-> 1097\u001b[0m         \u001b[38;5;28;01mreturn\u001b[39;00m _load(\n\u001b[0;32m   1098\u001b[0m             opened_zipfile,\n\u001b[0;32m   1099\u001b[0m             map_location,\n\u001b[0;32m   1100\u001b[0m             pickle_module,\n\u001b[0;32m   1101\u001b[0m             overall_storage\u001b[38;5;241m=\u001b[39moverall_storage,\n\u001b[0;32m   1102\u001b[0m             \u001b[38;5;241m*\u001b[39m\u001b[38;5;241m*\u001b[39mpickle_load_args,\n\u001b[0;32m   1103\u001b[0m         )\n\u001b[0;32m   1104\u001b[0m \u001b[38;5;28;01mif\u001b[39;00m mmap:\n\u001b[0;32m   1105\u001b[0m     f_name \u001b[38;5;241m=\u001b[39m \u001b[38;5;124m\"\u001b[39m\u001b[38;5;124m\"\u001b[39m \u001b[38;5;28;01mif\u001b[39;00m \u001b[38;5;129;01mnot\u001b[39;00m \u001b[38;5;28misinstance\u001b[39m(f, \u001b[38;5;28mstr\u001b[39m) \u001b[38;5;28;01melse\u001b[39;00m \u001b[38;5;124mf\u001b[39m\u001b[38;5;124m\"\u001b[39m\u001b[38;5;132;01m{\u001b[39;00mf\u001b[38;5;132;01m}\u001b[39;00m\u001b[38;5;124m, \u001b[39m\u001b[38;5;124m\"\u001b[39m\n",
      "File \u001b[1;32m~\\anaconda3\\Lib\\site-packages\\torch\\serialization.py:1525\u001b[0m, in \u001b[0;36m_load\u001b[1;34m(zip_file, map_location, pickle_module, pickle_file, overall_storage, **pickle_load_args)\u001b[0m\n\u001b[0;32m   1522\u001b[0m \u001b[38;5;66;03m# Needed for tensors where storage device and rebuild tensor device are\u001b[39;00m\n\u001b[0;32m   1523\u001b[0m \u001b[38;5;66;03m# not connected (wrapper subclasses and tensors rebuilt using numpy)\u001b[39;00m\n\u001b[0;32m   1524\u001b[0m torch\u001b[38;5;241m.\u001b[39m_utils\u001b[38;5;241m.\u001b[39m_thread_local_state\u001b[38;5;241m.\u001b[39mmap_location \u001b[38;5;241m=\u001b[39m map_location\n\u001b[1;32m-> 1525\u001b[0m result \u001b[38;5;241m=\u001b[39m unpickler\u001b[38;5;241m.\u001b[39mload()\n\u001b[0;32m   1526\u001b[0m \u001b[38;5;28;01mdel\u001b[39;00m torch\u001b[38;5;241m.\u001b[39m_utils\u001b[38;5;241m.\u001b[39m_thread_local_state\u001b[38;5;241m.\u001b[39mmap_location\n\u001b[0;32m   1528\u001b[0m torch\u001b[38;5;241m.\u001b[39m_utils\u001b[38;5;241m.\u001b[39m_validate_loaded_sparse_tensors()\n",
      "File \u001b[1;32m~\\anaconda3\\Lib\\site-packages\\torch\\serialization.py:1515\u001b[0m, in \u001b[0;36m_load.<locals>.UnpicklerWrapper.find_class\u001b[1;34m(self, mod_name, name)\u001b[0m\n\u001b[0;32m   1513\u001b[0m         \u001b[38;5;28;01mpass\u001b[39;00m\n\u001b[0;32m   1514\u001b[0m mod_name \u001b[38;5;241m=\u001b[39m load_module_mapping\u001b[38;5;241m.\u001b[39mget(mod_name, mod_name)\n\u001b[1;32m-> 1515\u001b[0m \u001b[38;5;28;01mreturn\u001b[39;00m \u001b[38;5;28msuper\u001b[39m()\u001b[38;5;241m.\u001b[39mfind_class(mod_name, name)\n",
      "\u001b[1;31mAttributeError\u001b[0m: Can't get attribute 'C3k2' on <module 'ultralytics.nn.modules.block' from 'C:\\\\Users\\\\alero\\\\anaconda3\\\\Lib\\\\site-packages\\\\ultralytics\\\\nn\\\\modules\\\\block.py'>"
     ]
    }
   ],
   "source": [
    "import torch\n",
    "from ultralytics import YOLO\n",
    "\n",
    "Y11s_model_path = 'C:/Users/alero/Documents/GitHub/Recicling-Collection-Service/Shinyapp/Local/models/YOLOv5/Yv11sbest.pt'\n",
    "\n",
    "# # Load a model\n",
    "model = YOLO(Y11s_model_path)  # load a custom model\n",
    "\n",
    "# # Predict with the model\n",
    "# results = model(\"https://ultralytics.com/images/bus.jpg\")  # predict on an image"
   ]
  },
  {
   "cell_type": "code",
   "execution_count": null,
   "id": "cf36662c",
   "metadata": {},
   "outputs": [],
   "source": []
  }
 ],
 "metadata": {
  "kernelspec": {
   "display_name": "Python 3 (ipykernel)",
   "language": "python",
   "name": "python3"
  },
  "language_info": {
   "codemirror_mode": {
    "name": "ipython",
    "version": 3
   },
   "file_extension": ".py",
   "mimetype": "text/x-python",
   "name": "python",
   "nbconvert_exporter": "python",
   "pygments_lexer": "ipython3",
   "version": "3.11.7"
  }
 },
 "nbformat": 4,
 "nbformat_minor": 5
}
